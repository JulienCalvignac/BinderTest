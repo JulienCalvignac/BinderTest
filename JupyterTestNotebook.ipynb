{
 "cells": [
  {
   "cell_type": "code",
   "execution_count": null,
   "id": "81098646",
   "metadata": {},
   "outputs": [],
   "source": [
    "import sys\n",
    "import ipywidgets as widgets\n",
    "from IPython.display import display\n",
    "\n",
    "\n",
    "my_int_slider = widgets.IntSlider(value=5,\n",
    "                                  min=1,\n",
    "                                  max=20,\n",
    "                                  step=1)\n",
    "\n",
    "display(my_int_slider)"
   ]
  }
 ],
 "metadata": {
  "language_info": {
   "name": "python"
  }
 },
 "nbformat": 4,
 "nbformat_minor": 5
}
